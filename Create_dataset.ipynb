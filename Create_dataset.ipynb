{
 "cells": [
  {
   "cell_type": "markdown",
   "id": "9ecfe3d1-783a-465d-ad6f-0c0176a6573a",
   "metadata": {},
   "source": [
    "Code to load and extract data"
   ]
  },
  {
   "cell_type": "code",
   "execution_count": 1,
   "id": "c996b935-84a7-4355-bb28-3a6ac64c737c",
   "metadata": {},
   "outputs": [],
   "source": [
    "import os\n",
    "import sys\n",
    "import requests\n",
    "import json, shutil\n",
    "from os import listdir\n",
    "from shutil import copyfile\n",
    "import zipfile, urllib.request"
   ]
  },
  {
   "cell_type": "code",
   "execution_count": 2,
   "id": "9a69d659-ca56-409b-ba7e-bc27df5a61c6",
   "metadata": {},
   "outputs": [],
   "source": [
    "def download_extract_delete(url):\n",
    "    \"\"\"The function takes two arguments, the link of the zip file and filename\"\"\"\n",
    "    file_name = os.path.basename(url)\n",
    "    with urllib.request.urlopen(url) as response, open(file_name, 'wb') as f:\n",
    "        print(\"Start download -\")\n",
    "        print(\"Downloading %s\" % file_name)\n",
    "        #shutil.copyfileobj(response, f)\n",
    "        response = requests.get(url, stream=True)\n",
    "        total_length = response.headers.get('content-length')\n",
    "        if total_length is None: # no content length header\n",
    "            f.write(response.content)\n",
    "        else:\n",
    "            dl = 0\n",
    "            total_length = int(total_length)\n",
    "            for data in response.iter_content(chunk_size=4096):\n",
    "                dl += len(data)\n",
    "                f.write(data)\n",
    "                done = int(50 * dl / total_length)\n",
    "                sys.stdout.write(\"\\r[%s%s]\" % ('=' * done, ' ' * (50-done)) )    \n",
    "                sys.stdout.flush()\n",
    "    \n",
    "    with zipfile.ZipFile(file_name) as new_f:\n",
    "        new_title = new_f.filename\n",
    "        #url.split('/')[-1]\n",
    "        new_f.extractall()\n",
    "        print(\"\\nDownload complete and extracted as %s\" % new_title)    \n",
    "    for item in os.listdir(\"./\"):\n",
    "        if item.endswith(\".zip\"):\n",
    "            os.remove(item)\n",
    "            print(\"Extraction complete, zipped file deleted\")\n"
   ]
  },
  {
   "cell_type": "code",
   "execution_count": 3,
   "id": "611e81f3-511a-41c7-b12a-99a7c4a0dbe4",
   "metadata": {
    "tags": []
   },
   "outputs": [
    {
     "name": "stdout",
     "output_type": "stream",
     "text": [
      "Start download -\n",
      "Downloading val2014.zip\n",
      "[=====                                             ]"
     ]
    },
    {
     "name": "stderr",
     "output_type": "stream",
     "text": [
      "IOPub message rate exceeded.\n",
      "The Jupyter server will temporarily stop sending output\n",
      "to the client in order to avoid crashing it.\n",
      "To change this limit, set the config variable\n",
      "`--ServerApp.iopub_msg_rate_limit`.\n",
      "\n",
      "Current values:\n",
      "ServerApp.iopub_msg_rate_limit=1000.0 (msgs/sec)\n",
      "ServerApp.rate_limit_window=3.0 (secs)\n",
      "\n"
     ]
    },
    {
     "name": "stdout",
     "output_type": "stream",
     "text": [
      "[=====                                             ]"
     ]
    },
    {
     "name": "stderr",
     "output_type": "stream",
     "text": [
      "IOPub message rate exceeded.\n",
      "The Jupyter server will temporarily stop sending output\n",
      "to the client in order to avoid crashing it.\n",
      "To change this limit, set the config variable\n",
      "`--ServerApp.iopub_msg_rate_limit`.\n",
      "\n",
      "Current values:\n",
      "ServerApp.iopub_msg_rate_limit=1000.0 (msgs/sec)\n",
      "ServerApp.rate_limit_window=3.0 (secs)\n",
      "\n"
     ]
    },
    {
     "name": "stdout",
     "output_type": "stream",
     "text": [
      "[=====                                             ]"
     ]
    },
    {
     "name": "stderr",
     "output_type": "stream",
     "text": [
      "IOPub message rate exceeded.\n",
      "The Jupyter server will temporarily stop sending output\n",
      "to the client in order to avoid crashing it.\n",
      "To change this limit, set the config variable\n",
      "`--ServerApp.iopub_msg_rate_limit`.\n",
      "\n",
      "Current values:\n",
      "ServerApp.iopub_msg_rate_limit=1000.0 (msgs/sec)\n",
      "ServerApp.rate_limit_window=3.0 (secs)\n",
      "\n"
     ]
    },
    {
     "name": "stdout",
     "output_type": "stream",
     "text": [
      "[======                                            ]"
     ]
    },
    {
     "name": "stderr",
     "output_type": "stream",
     "text": [
      "IOPub message rate exceeded.\n",
      "The Jupyter server will temporarily stop sending output\n",
      "to the client in order to avoid crashing it.\n",
      "To change this limit, set the config variable\n",
      "`--ServerApp.iopub_msg_rate_limit`.\n",
      "\n",
      "Current values:\n",
      "ServerApp.iopub_msg_rate_limit=1000.0 (msgs/sec)\n",
      "ServerApp.rate_limit_window=3.0 (secs)\n",
      "\n"
     ]
    },
    {
     "name": "stdout",
     "output_type": "stream",
     "text": [
      "[======                                            ]"
     ]
    },
    {
     "name": "stderr",
     "output_type": "stream",
     "text": [
      "IOPub message rate exceeded.\n",
      "The Jupyter server will temporarily stop sending output\n",
      "to the client in order to avoid crashing it.\n",
      "To change this limit, set the config variable\n",
      "`--ServerApp.iopub_msg_rate_limit`.\n",
      "\n",
      "Current values:\n",
      "ServerApp.iopub_msg_rate_limit=1000.0 (msgs/sec)\n",
      "ServerApp.rate_limit_window=3.0 (secs)\n",
      "\n"
     ]
    },
    {
     "name": "stdout",
     "output_type": "stream",
     "text": [
      "[=======                                           ]"
     ]
    },
    {
     "name": "stderr",
     "output_type": "stream",
     "text": [
      "IOPub message rate exceeded.\n",
      "The Jupyter server will temporarily stop sending output\n",
      "to the client in order to avoid crashing it.\n",
      "To change this limit, set the config variable\n",
      "`--ServerApp.iopub_msg_rate_limit`.\n",
      "\n",
      "Current values:\n",
      "ServerApp.iopub_msg_rate_limit=1000.0 (msgs/sec)\n",
      "ServerApp.rate_limit_window=3.0 (secs)\n",
      "\n"
     ]
    },
    {
     "name": "stdout",
     "output_type": "stream",
     "text": [
      "[========                                          ]"
     ]
    },
    {
     "name": "stderr",
     "output_type": "stream",
     "text": [
      "IOPub message rate exceeded.\n",
      "The Jupyter server will temporarily stop sending output\n",
      "to the client in order to avoid crashing it.\n",
      "To change this limit, set the config variable\n",
      "`--ServerApp.iopub_msg_rate_limit`.\n",
      "\n",
      "Current values:\n",
      "ServerApp.iopub_msg_rate_limit=1000.0 (msgs/sec)\n",
      "ServerApp.rate_limit_window=3.0 (secs)\n",
      "\n"
     ]
    },
    {
     "name": "stdout",
     "output_type": "stream",
     "text": [
      "[========                                          ]"
     ]
    },
    {
     "name": "stderr",
     "output_type": "stream",
     "text": [
      "IOPub message rate exceeded.\n",
      "The Jupyter server will temporarily stop sending output\n",
      "to the client in order to avoid crashing it.\n",
      "To change this limit, set the config variable\n",
      "`--ServerApp.iopub_msg_rate_limit`.\n",
      "\n",
      "Current values:\n",
      "ServerApp.iopub_msg_rate_limit=1000.0 (msgs/sec)\n",
      "ServerApp.rate_limit_window=3.0 (secs)\n",
      "\n"
     ]
    },
    {
     "name": "stdout",
     "output_type": "stream",
     "text": [
      "[=========                                         ]"
     ]
    },
    {
     "name": "stderr",
     "output_type": "stream",
     "text": [
      "IOPub message rate exceeded.\n",
      "The Jupyter server will temporarily stop sending output\n",
      "to the client in order to avoid crashing it.\n",
      "To change this limit, set the config variable\n",
      "`--ServerApp.iopub_msg_rate_limit`.\n",
      "\n",
      "Current values:\n",
      "ServerApp.iopub_msg_rate_limit=1000.0 (msgs/sec)\n",
      "ServerApp.rate_limit_window=3.0 (secs)\n",
      "\n"
     ]
    },
    {
     "name": "stdout",
     "output_type": "stream",
     "text": [
      "[=========                                         ]"
     ]
    },
    {
     "name": "stderr",
     "output_type": "stream",
     "text": [
      "IOPub message rate exceeded.\n",
      "The Jupyter server will temporarily stop sending output\n",
      "to the client in order to avoid crashing it.\n",
      "To change this limit, set the config variable\n",
      "`--ServerApp.iopub_msg_rate_limit`.\n",
      "\n",
      "Current values:\n",
      "ServerApp.iopub_msg_rate_limit=1000.0 (msgs/sec)\n",
      "ServerApp.rate_limit_window=3.0 (secs)\n",
      "\n"
     ]
    },
    {
     "name": "stdout",
     "output_type": "stream",
     "text": [
      "[=========                                         ]"
     ]
    },
    {
     "name": "stderr",
     "output_type": "stream",
     "text": [
      "IOPub message rate exceeded.\n",
      "The Jupyter server will temporarily stop sending output\n",
      "to the client in order to avoid crashing it.\n",
      "To change this limit, set the config variable\n",
      "`--ServerApp.iopub_msg_rate_limit`.\n",
      "\n",
      "Current values:\n",
      "ServerApp.iopub_msg_rate_limit=1000.0 (msgs/sec)\n",
      "ServerApp.rate_limit_window=3.0 (secs)\n",
      "\n"
     ]
    },
    {
     "name": "stdout",
     "output_type": "stream",
     "text": [
      "[==========                                        ]"
     ]
    },
    {
     "name": "stderr",
     "output_type": "stream",
     "text": [
      "IOPub message rate exceeded.\n",
      "The Jupyter server will temporarily stop sending output\n",
      "to the client in order to avoid crashing it.\n",
      "To change this limit, set the config variable\n",
      "`--ServerApp.iopub_msg_rate_limit`.\n",
      "\n",
      "Current values:\n",
      "ServerApp.iopub_msg_rate_limit=1000.0 (msgs/sec)\n",
      "ServerApp.rate_limit_window=3.0 (secs)\n",
      "\n"
     ]
    },
    {
     "name": "stdout",
     "output_type": "stream",
     "text": [
      "[==========                                        ]"
     ]
    },
    {
     "name": "stderr",
     "output_type": "stream",
     "text": [
      "IOPub message rate exceeded.\n",
      "The Jupyter server will temporarily stop sending output\n",
      "to the client in order to avoid crashing it.\n",
      "To change this limit, set the config variable\n",
      "`--ServerApp.iopub_msg_rate_limit`.\n",
      "\n",
      "Current values:\n",
      "ServerApp.iopub_msg_rate_limit=1000.0 (msgs/sec)\n",
      "ServerApp.rate_limit_window=3.0 (secs)\n",
      "\n"
     ]
    },
    {
     "name": "stdout",
     "output_type": "stream",
     "text": [
      "[==========                                        ]"
     ]
    },
    {
     "name": "stderr",
     "output_type": "stream",
     "text": [
      "IOPub message rate exceeded.\n",
      "The Jupyter server will temporarily stop sending output\n",
      "to the client in order to avoid crashing it.\n",
      "To change this limit, set the config variable\n",
      "`--ServerApp.iopub_msg_rate_limit`.\n",
      "\n",
      "Current values:\n",
      "ServerApp.iopub_msg_rate_limit=1000.0 (msgs/sec)\n",
      "ServerApp.rate_limit_window=3.0 (secs)\n",
      "\n"
     ]
    },
    {
     "name": "stdout",
     "output_type": "stream",
     "text": [
      "[===========                                       ]"
     ]
    },
    {
     "name": "stderr",
     "output_type": "stream",
     "text": [
      "IOPub message rate exceeded.\n",
      "The Jupyter server will temporarily stop sending output\n",
      "to the client in order to avoid crashing it.\n",
      "To change this limit, set the config variable\n",
      "`--ServerApp.iopub_msg_rate_limit`.\n",
      "\n",
      "Current values:\n",
      "ServerApp.iopub_msg_rate_limit=1000.0 (msgs/sec)\n",
      "ServerApp.rate_limit_window=3.0 (secs)\n",
      "\n"
     ]
    }
   ],
   "source": [
    "images = 'http://images.cocodataset.org/zips/val2014.zip'\n",
    "annotate = 'http://images.cocodataset.org/annotations/annotations_trainval2014.zip'\n",
    "\n",
    "dataset=[images, annotate]\n",
    "for data in dataset:\n",
    "    download_extract_delete(data)"
   ]
  },
  {
   "cell_type": "code",
   "execution_count": null,
   "id": "26e3dc85-61cb-46b8-95f2-66d2fc8b622a",
   "metadata": {},
   "outputs": [],
   "source": [
    "data = {}\n",
    "images = os.listdir(\"./val2014\")\n",
    "with open('./annotations/captions_val2014.json', 'r') as myfile:\n",
    "    data=myfile.read()\n",
    "obj = json.loads(data)\n",
    "annotations = obj['annotations']"
   ]
  },
  {
   "cell_type": "code",
   "execution_count": null,
   "id": "6c015bd2-12bc-4440-a0fe-dd0867bd9dea",
   "metadata": {},
   "outputs": [],
   "source": [
    "new_dir = \"./vehicles\"\n",
    "os.mkdir(new_dir) \n",
    "\n",
    "label_dir = [\"bus\", \"motorcycle\", \"plane\", \"train\"]\n",
    "for v in label_dir:\n",
    "    sub_dir = \"./vehicles/\"+v\n",
    "    os.mkdir(sub_dir)"
   ]
  },
  {
   "cell_type": "code",
   "execution_count": null,
   "id": "84f6451a-0b6d-4e93-a61e-7fe6a2e742a3",
   "metadata": {},
   "outputs": [],
   "source": [
    "for key in annotations:\n",
    "    image_id = str(key['image_id'])\n",
    "    image_caption = str(key['caption'])\n",
    "    for i in images:\n",
    "        if image_id in i:\n",
    "            if \"bus\" in image_caption:\n",
    "                copyfile(\"./val2014/\"+i, \"./vehicles/bus/\"+image_id+\".jpeg\")\n",
    "            elif \"motorcycle\" in image_caption:\n",
    "                copyfile(\"./val2014/\"+i, \"./vehicles/motorcycle/\"+image_id+\".jpeg\")\n",
    "            elif \"plane\" in image_caption:\n",
    "                copyfile(\"./val2014/\"+i, \"./vehicles/plane/\"+image_id+\".jpeg\")\n",
    "            elif \"train\" in image_caption:\n",
    "                copyfile(\"./val2014/\"+i, \"./vehicles/train/\"+image_id+\".jpeg\")"
   ]
  },
  {
   "cell_type": "code",
   "execution_count": null,
   "id": "4b6183a6-803e-4508-aa12-360e2f437f62",
   "metadata": {},
   "outputs": [],
   "source": [
    "print(\"\\n Download complete and extracted as %s\")# %(file_name, new_title))    "
   ]
  },
  {
   "cell_type": "code",
   "execution_count": null,
   "id": "8935dd05-0b8c-4506-8ebb-03e244f5b3e6",
   "metadata": {
    "tags": []
   },
   "outputs": [],
   "source": [
    "annot = 'http://images.cocodataset.org/annotations/annotations_trainval2014.zip'\n",
    "download_extract_delete(annot)"
   ]
  },
  {
   "cell_type": "code",
   "execution_count": null,
   "id": "bc0a6ee3-e515-4895-9529-5ea6200f3d3b",
   "metadata": {},
   "outputs": [],
   "source": [
    "def download_extract_delete1(url):\n",
    "    \"\"\"The function takes two arguments, the link of the zip file and filename\"\"\"\n",
    "    file_name = os.path.basename(url)\n",
    "    with urllib.request.urlopen(url) as response, open(file_name, 'wb') as out_file:\n",
    "        shutil.copyfileobj(response, out_file)\n",
    "        with zipfile.ZipFile(file_name) as zf:\n",
    "            zf.extractall()\n",
    "    for item in os.listdir(\"./\"):\n",
    "        if item.endswith(\".zip\"):\n",
    "            os.remove(item)"
   ]
  },
  {
   "cell_type": "code",
   "execution_count": null,
   "id": "41ec9d55-2c9c-4f01-b2a7-fd81fe639768",
   "metadata": {},
   "outputs": [],
   "source": []
  }
 ],
 "metadata": {
  "kernelspec": {
   "display_name": "Python 3 (ipykernel)",
   "language": "python",
   "name": "python3"
  },
  "language_info": {
   "codemirror_mode": {
    "name": "ipython",
    "version": 3
   },
   "file_extension": ".py",
   "mimetype": "text/x-python",
   "name": "python",
   "nbconvert_exporter": "python",
   "pygments_lexer": "ipython3",
   "version": "3.8.8"
  }
 },
 "nbformat": 4,
 "nbformat_minor": 5
}
